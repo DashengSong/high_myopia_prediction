{
 "cells": [
  {
   "cell_type": "code",
   "execution_count": 1,
   "metadata": {},
   "outputs": [],
   "source": [
    "import warnings\n",
    "warnings.filterwarnings('ignore')\n",
    "import numpy as np\n",
    "import pandas as pd\n",
    "from sklearn.tree import DecisionTreeClassifier\n",
    "from sklearn.feature_selection import SequentialFeatureSelector\n",
    "from sklearn.model_selection import train_test_split,StratifiedKFold\n",
    "import matplotlib.pyplot as plt\n",
    "import seaborn as sns"
   ]
  },
  {
   "cell_type": "code",
   "execution_count": 2,
   "metadata": {},
   "outputs": [],
   "source": [
    "TRAINFILE=\"Data/train.csv\"\n",
    "TESTFILE=\"Data/test.csv\""
   ]
  },
  {
   "cell_type": "markdown",
   "metadata": {},
   "source": [
    "#### Import data"
   ]
  },
  {
   "cell_type": "code",
   "execution_count": 3,
   "metadata": {},
   "outputs": [],
   "source": [
    "trainDf=pd.read_csv(TRAINFILE)\n",
    "validDf=pd.read_csv(TESTFILE)"
   ]
  },
  {
   "cell_type": "code",
   "execution_count": 4,
   "metadata": {},
   "outputs": [],
   "source": [
    "keep_cols=['outcome','gender','age','basegrd','baseucva','familyHistory','outdoor','wearGlass',\\\n",
    "            'nearDisPlay','nearDisStudy','nearDisRead','Coarse','seaFood','fruit','vegatables','cookies',\\\n",
    "            'friedFood','soda','basesef']\n",
    "trainDf=trainDf[keep_cols]\n",
    "validDf=validDf[keep_cols]"
   ]
  },
  {
   "cell_type": "code",
   "execution_count": 5,
   "metadata": {},
   "outputs": [],
   "source": [
    "trainDf.dropna(axis=0,how='any',inplace=True)\n",
    "X,y=trainDf.iloc[:,1:],trainDf.iloc[:,0]"
   ]
  },
  {
   "cell_type": "markdown",
   "metadata": {},
   "source": [
    "#### Feature selection"
   ]
  },
  {
   "cell_type": "code",
   "execution_count": 57,
   "metadata": {},
   "outputs": [],
   "source": [
    "# numeric_features = [\"age\",'baseucva']\n",
    "# numeric_transformer = Pipeline(\n",
    "#     steps=[('impute',SimpleImputer(strategy=\"median\"))]\n",
    "# )\n",
    "# categorical_features = [\"gender\", \"basegrd\", \"familyHistory\",'outdoor','wearGlass','nearDisPlay','nearDisStudy',\\\n",
    "#     'nearDisRead','Coarse','seaFood','fruit','vegatables','cookies','friedFood','soda','basesef']\n",
    "# categorical_transformer = Pipeline(\n",
    "#     steps=[\n",
    "#         (\"impute\",SimpleImputer(strategy=\"most_frequent\"))\n",
    "#     ]\n",
    "# )\n",
    "# preprocessor = ColumnTransformer(\n",
    "#     transformers=[\n",
    "#         (\"num\", numeric_transformer, numeric_features),\n",
    "#         (\"cat\", categorical_transformer, categorical_features),\n",
    "#     ]\n",
    "# )"
   ]
  },
  {
   "cell_type": "code",
   "execution_count": 6,
   "metadata": {},
   "outputs": [],
   "source": [
    "categorical_features = [\"gender\", \"basegrd\", \"familyHistory\",'outdoor','wearGlass','nearDisPlay','nearDisStudy',\\\n",
    "     'nearDisRead','Coarse','seaFood','fruit','vegatables','cookies','friedFood','soda','basesef']\n",
    "X.loc[:,categorical_features]=X.loc[:,categorical_features].astype('object')"
   ]
  },
  {
   "cell_type": "code",
   "execution_count": 7,
   "metadata": {},
   "outputs": [],
   "source": [
    "cv=StratifiedKFold(10)\n",
    "#rsf=RandomForestClassifier(random_state=1234)\n",
    "dtTree=DecisionTreeClassifier(max_depth=8)"
   ]
  },
  {
   "cell_type": "code",
   "execution_count": 9,
   "metadata": {},
   "outputs": [],
   "source": [
    "# 计算IV值\n",
    "def cal_IV(X,y,quanList):\n",
    "    X_copy=X.copy()\n",
    "    res={}\n",
    "    noevents,events=np.bincount(y)\n",
    "    for i,var in enumerate(X_copy.columns.to_list()):\n",
    "        #print(var)\n",
    "        iv=0\n",
    "        if var in quanList:\n",
    "            try:\n",
    "                X_copy[var]=pd.qcut(X[var],q=[0,0.25,0.50,0.75,1],duplicates='drop',labels=[1,2,3,4])\n",
    "            except:\n",
    "                X_copy[var]=pd.qcut(X[var],q=[0,0.25,0.50,0.75,1],duplicates='drop',labels=[1,2,3])\n",
    "        uniqueList=np.unique(X_copy[var])\n",
    "        for value in uniqueList:\n",
    "            v_events=(y[X_copy[var]==value]==1).sum()\n",
    "            v_noevents=(y[X_copy[var]==value]==0).sum()\n",
    "            iv+=(v_events/events-v_noevents/noevents)*np.log((v_events/events)/(v_noevents/noevents))\n",
    "        res[var]=iv\n",
    "    return res\n",
    "\n",
    "ivData=cal_IV(X,y,quanList=['age','baseucva'])"
   ]
  },
  {
   "cell_type": "code",
   "execution_count": 10,
   "metadata": {},
   "outputs": [
    {
     "data": {
      "image/png": "[encoded data removed]",
      "text/plain": [
       "<Figure size 432x288 with 1 Axes>"
      ]
     },
     "metadata": {
      "needs_background": "light"
     },
     "output_type": "display_data"
    }
   ],
   "source": [
    "ivData=pd.DataFrame(zip(ivData.keys(),ivData.values()),columns=['Features','IV'])\n",
    "ivData=ivData.sort_values(by='IV',ascending=False)\n",
    "ax=sns.barplot(data=ivData,x='Features',y=\"IV\")\n",
    "ax.set_xticklabels(ax.get_xticklabels(),rotation=65)\n",
    "for p in ax.patches:\n",
    "    _x=p.get_x()+p.get_width()/2\n",
    "    _y=p.get_y()+p.get_height()+0.03\n",
    "    value='{:.1f}'.format(p.get_height())\n",
    "    ax.text(_x,_y,value,ha='center')\n",
    "ax.set_ylim(0,3)\n",
    "plt.savefig(\"./Plots/IV.jpg\",bbox_inches='tight',dpi=300)"
   ]
  }
 ],
 "metadata": {
  "kernelspec": {
   "display_name": "predmyopia",
   "language": "python",
   "name": "python3"
  },
  "language_info": {
   "codemirror_mode": {
    "name": "ipython",
    "version": 3
   },
   "file_extension": ".py",
   "mimetype": "text/x-python",
   "name": "python",
   "nbconvert_exporter": "python",
   "pygments_lexer": "ipython3",
   "version": "0.0.0"
  }
 },
 "nbformat": 4,
 "nbformat_minor": 2
}
